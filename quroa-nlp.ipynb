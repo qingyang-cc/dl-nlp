{
 "cells": [
  {
   "cell_type": "markdown",
   "metadata": {},
   "source": [
    "# NLP文本分类问题\n",
    "0. [读取数据](#ch1)\n",
    "0. [数据预处理](#ch2)\n",
    "0. [建模](#ch3)\n",
    "0. [预测和可视化](#ch4)\n",
    ">总体思路是：1.将文本转化为词向量 2.词向量喂入模型。\n",
    "如何转换？1.open(glove.txt)作为embeding索引，应为字典格式。2.Glove基于字词级别的分词，调用keras的tokenizer，进行fit文本，这步主要为了得到字词的word_index\n",
    "\n",
    ">一般多少词有多少特征，可以建立max_feature(可以自己设置) x 300d的全0矩阵，遍历word_index，查找单词是否出现在一开始读入的embedding索引中，存在就get(word）获得词向量填充到矩阵对应行中。\n",
    "\n",
    ">建模阶段：使用了双向LSTM模型，设置了两层LSTM，最后一层只输出一个值。(现在感觉加入一维卷积后输入的向量很奇怪，RNN不是每个cell都有输入了？TODO)\n",
    "\n",
    ">结果其实有点过拟合，可以加入LN层标准化，或者增加Batch的大小。\n",
    "分类采用的F1分数，也就是精确率和召回率的平均分数最为判断哪一类的门槛。算出来最佳是0.3"
   ]
  },
  {
   "cell_type": "code",
   "execution_count": 1,
   "metadata": {
    "_cell_guid": "b1076dfc-b9ad-4769-8c92-a6c4dae69d19",
    "_uuid": "8f2839f25d086af736a60e9eeb907d3b93b6e0e5"
   },
   "outputs": [
    {
     "name": "stdout",
     "output_type": "stream",
     "text": [
      "/kaggle/input/quora-insincere-questions-classification/sample_submission.csv\n",
      "/kaggle/input/quora-insincere-questions-classification/embeddings.zip\n",
      "/kaggle/input/quora-insincere-questions-classification/train.csv\n",
      "/kaggle/input/quora-insincere-questions-classification/test.csv\n"
     ]
    }
   ],
   "source": [
    "# This Python 3 environment comes with many helpful analytics libraries installed\n",
    "# It is defined by the kaggle/python Docker image: https://github.com/kaggle/docker-python\n",
    "# For example, here's several helpful packages to load\n",
    "\n",
    "import numpy as np # linear algebra\n",
    "import pandas as pd # data processing, CSV file I/O (e.g. pd.read_csv)\n",
    "\n",
    "# Input data files are available in the read-only \"../input/\" directory\n",
    "# For example, running this (by clicking run or pressing Shift+Enter) will list all files under the input directory\n",
    "\n",
    "import os\n",
    "for dirname, _, filenames in os.walk('/kaggle/input'):\n",
    "    for filename in filenames:\n",
    "        print(os.path.join(dirname, filename))\n",
    "\n",
    "# You can write up to 20GB to the current directory (/kaggle/working/) that gets preserved as output when you create a version using \"Save & Run All\" \n",
    "# You can also write temporary files to /kaggle/temp/, but they won't be saved outside of the current session"
   ]
  },
  {
   "cell_type": "code",
   "execution_count": 44,
   "metadata": {},
   "outputs": [],
   "source": [
    "from tensorflow.keras.preprocessing.text import Tokenizer\n",
    "from tensorflow.keras.preprocessing.sequence import pad_sequences\n",
    "import tensorflow as tf\n",
    "from sklearn.model_selection import train_test_split"
   ]
  },
  {
   "cell_type": "markdown",
   "metadata": {},
   "source": [
    "<a id='ch1'></a>\n",
    "##  0.读取数据、读取语料库"
   ]
  },
  {
   "cell_type": "markdown",
   "metadata": {},
   "source": [
    "### 解压数据"
   ]
  },
  {
   "cell_type": "code",
   "execution_count": 2,
   "metadata": {
    "_cell_guid": "79c7e3d0-c299-4dcb-8224-4455121ee9b0",
    "_uuid": "d629ff2d2480ee46fbb7e2d37f6b5fab8052498a"
   },
   "outputs": [
    {
     "name": "stdout",
     "output_type": "stream",
     "text": [
      "['GoogleNews-vectors-negative300/', 'glove.840B.300d/', 'paragram_300_sl999/', 'wiki-news-300d-1M/', 'glove.840B.300d/glove.840B.300d.txt', 'GoogleNews-vectors-negative300/GoogleNews-vectors-negative300.bin', 'wiki-news-300d-1M/wiki-news-300d-1M.vec', 'paragram_300_sl999/README.txt', 'paragram_300_sl999/paragram_300_sl999.txt']\n"
     ]
    }
   ],
   "source": [
    "# Extract a zip file\n",
    "import zipfile\n",
    "zip_ref = zipfile.ZipFile('/kaggle/input/quora-insincere-questions-classification/embeddings.zip', 'r')\n",
    "print(zip_ref.namelist())\n",
    "embeddings = zip_ref.open('glove.840B.300d/glove.840B.300d.txt', 'r')"
   ]
  },
  {
   "cell_type": "markdown",
   "metadata": {},
   "source": [
    "### 读取语料库"
   ]
  },
  {
   "cell_type": "code",
   "execution_count": 3,
   "metadata": {},
   "outputs": [],
   "source": [
    "def get_coefs(word,*arr): \n",
    "    return word, np.asarray(arr, dtype='float32')\n",
    "embeddings_index = dict(get_coefs(*o.decode().split(\" \")) for o in embeddings)"
   ]
  },
  {
   "cell_type": "markdown",
   "metadata": {},
   "source": [
    "### 读取数据"
   ]
  },
  {
   "cell_type": "code",
   "execution_count": 5,
   "metadata": {},
   "outputs": [
    {
     "name": "stdout",
     "output_type": "stream",
     "text": [
      "训练集维度：\n",
      " (1306122, 3)\n",
      "测试集维度：\n",
      " (375806, 2)\n"
     ]
    },
    {
     "data": {
      "text/html": [
       "<div>\n",
       "<style scoped>\n",
       "    .dataframe tbody tr th:only-of-type {\n",
       "        vertical-align: middle;\n",
       "    }\n",
       "\n",
       "    .dataframe tbody tr th {\n",
       "        vertical-align: top;\n",
       "    }\n",
       "\n",
       "    .dataframe thead th {\n",
       "        text-align: right;\n",
       "    }\n",
       "</style>\n",
       "<table border=\"1\" class=\"dataframe\">\n",
       "  <thead>\n",
       "    <tr style=\"text-align: right;\">\n",
       "      <th></th>\n",
       "      <th>qid</th>\n",
       "      <th>question_text</th>\n",
       "      <th>target</th>\n",
       "    </tr>\n",
       "  </thead>\n",
       "  <tbody>\n",
       "    <tr>\n",
       "      <th>1200792</th>\n",
       "      <td>eb5717caf806173551c6</td>\n",
       "      <td>Where can I find carpet cleaners in Bromley?</td>\n",
       "      <td>0</td>\n",
       "    </tr>\n",
       "    <tr>\n",
       "      <th>709825</th>\n",
       "      <td>8af5f40cc2ef6fe77256</td>\n",
       "      <td>Which research labs at Westminster College are...</td>\n",
       "      <td>0</td>\n",
       "    </tr>\n",
       "    <tr>\n",
       "      <th>1048754</th>\n",
       "      <td>cd7fffa7b8695e43248b</td>\n",
       "      <td>Is it fair for someone has never worked in an ...</td>\n",
       "      <td>0</td>\n",
       "    </tr>\n",
       "    <tr>\n",
       "      <th>1093378</th>\n",
       "      <td>d6482453d336005407b3</td>\n",
       "      <td>What will be the most embarrassing question fo...</td>\n",
       "      <td>0</td>\n",
       "    </tr>\n",
       "    <tr>\n",
       "      <th>35751</th>\n",
       "      <td>06ff7165ce4c549a8f00</td>\n",
       "      <td>How is Canada as a country? Is it a good optio...</td>\n",
       "      <td>0</td>\n",
       "    </tr>\n",
       "  </tbody>\n",
       "</table>\n",
       "</div>"
      ],
      "text/plain": [
       "                          qid  \\\n",
       "1200792  eb5717caf806173551c6   \n",
       "709825   8af5f40cc2ef6fe77256   \n",
       "1048754  cd7fffa7b8695e43248b   \n",
       "1093378  d6482453d336005407b3   \n",
       "35751    06ff7165ce4c549a8f00   \n",
       "\n",
       "                                             question_text  target  \n",
       "1200792       Where can I find carpet cleaners in Bromley?       0  \n",
       "709825   Which research labs at Westminster College are...       0  \n",
       "1048754  Is it fair for someone has never worked in an ...       0  \n",
       "1093378  What will be the most embarrassing question fo...       0  \n",
       "35751    How is Canada as a country? Is it a good optio...       0  "
      ]
     },
     "execution_count": 5,
     "metadata": {},
     "output_type": "execute_result"
    }
   ],
   "source": [
    "train_data = pd.read_csv('/kaggle/input/quora-insincere-questions-classification/train.csv')\n",
    "test_data = pd.read_csv('/kaggle/input/quora-insincere-questions-classification/test.csv')\n",
    "print('训练集维度：\\n',train_data.shape)\n",
    "print('测试集维度：\\n',test_data.shape)\n",
    "train_data.sample(5)"
   ]
  },
  {
   "cell_type": "code",
   "execution_count": 6,
   "metadata": {},
   "outputs": [],
   "source": [
    "#将数据转化为列表\n",
    "train_input = list(train_data['question_text'])\n",
    "train_label = list(train_data['target'])\n",
    "\n",
    "test_input = list(test_data['question_text'])"
   ]
  },
  {
   "cell_type": "markdown",
   "metadata": {},
   "source": [
    "<a id='ch2'></a>\n",
    "## 1.数据预处理\n",
    "    1.1 转换大小写:  lower()\n",
    "    1.2 分词tokenizer:  from tensorflow.keras.preprocessing.text import Tokenizer\n",
    "    1.3 用空格代替停顿等无语语气词\n",
    "    1.4 POS标注词性\n",
    "    1.5 词干提取(stemming)和时态转换(lemmatization)\n",
    "    1.6 对句子长度进行限定"
   ]
  },
  {
   "cell_type": "markdown",
   "metadata": {},
   "source": [
    "#### 1.2用空格代替语气等无用词"
   ]
  },
  {
   "cell_type": "code",
   "execution_count": 7,
   "metadata": {},
   "outputs": [],
   "source": [
    "from nltk.corpus import stopwords\n",
    "stop = stopwords.words('english') #调用英语语气词库\n",
    "\n",
    "def remove_stop_words(x):\n",
    "    for word in stop:\n",
    "        token = \" \" + word + \" \"\n",
    "        x.lower()    #将x转为小写\n",
    "        if (x.find(token) != -1): #若没找到 返回-1\n",
    "            x = x.replace(token, \" \")\n",
    "    return x\n",
    "\n",
    "train_input_rsw = list(map(remove_stop_words, train_input))\n",
    "test_input_rsw = list(map(remove_stop_words, test_input))"
   ]
  },
  {
   "cell_type": "code",
   "execution_count": 26,
   "metadata": {},
   "outputs": [],
   "source": [
    "max_features=100000 #最大特征\n",
    "embed_size = 300 # 词向量维度(语料库是300d)\n",
    "max_length = 60 #最长句子长度（即RNN中隐层的长度）"
   ]
  },
  {
   "cell_type": "markdown",
   "metadata": {},
   "source": [
    "#### 1.3 and 1.1 分词，并通过语料库提取嵌入矩阵"
   ]
  },
  {
   "cell_type": "code",
   "execution_count": 11,
   "metadata": {},
   "outputs": [],
   "source": [
    "tokenizer=Tokenizer(num_words=max_features)\n",
    "#num_words:None或整数,处理的最大单词数量。少于此数的单词丢掉\n",
    "tokenizer.fit_on_texts(train_input_rsw)\n",
    "#使用一系列文档来生成token词典，texts为list类，每个元素为一个文档。\n",
    "word_index = tokenizer.word_index\n",
    "n_words = min(max_features,len(word_index))\n",
    "\n",
    "embedding_matrix = np.zeros((n_words+1, 300))\n",
    "\n",
    "for word, i in word_index.items():\n",
    "    if i >= max_features: \n",
    "        continue\n",
    "    embedding_vector = embeddings_index.get(word)\n",
    "    if embedding_vector is not None: \n",
    "        embedding_matrix[i] = embedding_vector"
   ]
  },
  {
   "cell_type": "markdown",
   "metadata": {},
   "source": [
    "#### 1.6 将文本转换为数字，并对其进行填充处理"
   ]
  },
  {
   "cell_type": "code",
   "execution_count": 27,
   "metadata": {},
   "outputs": [
    {
     "name": "stdout",
     "output_type": "stream",
     "text": [
      "(1306122, 60)\n",
      "(375806, 60)\n"
     ]
    }
   ],
   "source": [
    "sequences = tokenizer.texts_to_sequences(train_input_rsw)\n",
    "#将多个文档转换为word下标的向量形式,shape为[len(texts)，len(text)] -- (文档数，每条文档的长度)\n",
    "train_input_padded = pad_sequences(sequences, maxlen=max_length, padding='post', truncating='post')\n",
    "print(train_input_padded.shape)\n",
    "\n",
    "sequences = tokenizer.texts_to_sequences(test_input_rsw)\n",
    "test_input_padded = pad_sequences(sequences, maxlen=max_length, padding='post', truncating='post')\n",
    "print(test_input_padded.shape)"
   ]
  },
  {
   "cell_type": "code",
   "execution_count": 29,
   "metadata": {},
   "outputs": [
    {
     "data": {
      "text/plain": [
       "array([   3, 6659, 7198,   94, 6082, 1149, 8316,    0,    0,    0,    0,\n",
       "          0,    0,    0,    0,    0,    0,    0,    0,    0,    0,    0,\n",
       "          0,    0,    0,    0,    0,    0,    0,    0,    0,    0,    0,\n",
       "          0,    0,    0,    0,    0,    0,    0,    0,    0,    0,    0,\n",
       "          0,    0,    0,    0,    0,    0,    0,    0,    0,    0,    0,\n",
       "          0,    0,    0,    0,    0], dtype=int32)"
      ]
     },
     "execution_count": 29,
     "metadata": {},
     "output_type": "execute_result"
    }
   ],
   "source": [
    "train_input_padded[0]"
   ]
  },
  {
   "cell_type": "markdown",
   "metadata": {},
   "source": [
    "## 切分训练集和测试集"
   ]
  },
  {
   "cell_type": "code",
   "execution_count": 45,
   "metadata": {},
   "outputs": [],
   "source": [
    " #shuffling the data\n",
    "#np.random.seed(2)\n",
    "#trn_idx = np.random.permutation(len(train_data))\n",
    "\n",
    "#train_X = train_input_padded[trn_idx]\n",
    "#train_y = train_data['target'][trn_idx] \n",
    "\n",
    "train_text, cv_text, train_target, cv_target = train_test_split(train_input_padded, train_label, test_size = 0.1, random_state=2)"
   ]
  },
  {
   "cell_type": "markdown",
   "metadata": {},
   "source": [
    "<a id='ch3'></a>\n",
    "##  2.Keras 建模\n",
    "    模型基本结构为：嵌入层+双向LSTM层+Dropout层+一维卷积层+最大池化层+LSTM层+Dropout层+全连接层(sigmoid)"
   ]
  },
  {
   "cell_type": "code",
   "execution_count": 62,
   "metadata": {},
   "outputs": [],
   "source": [
    "from keras.models import Sequential\n",
    "from keras.layers import Embedding,Bidirectional,LSTM,Dropout,Conv1D,MaxPooling1D,Dense"
   ]
  },
  {
   "cell_type": "code",
   "execution_count": 63,
   "metadata": {},
   "outputs": [
    {
     "name": "stdout",
     "output_type": "stream",
     "text": [
      "Model: \"sequential_4\"\n",
      "_________________________________________________________________\n",
      "Layer (type)                 Output Shape              Param #   \n",
      "=================================================================\n",
      "embedding_3 (Embedding)      (None, 60, 300)           30000300  \n",
      "_________________________________________________________________\n",
      "bidirectional_1 (Bidirection (None, 60, 512)           1140736   \n",
      "_________________________________________________________________\n",
      "dropout_1 (Dropout)          (None, 60, 512)           0         \n",
      "_________________________________________________________________\n",
      "conv1d_1 (Conv1D)            (None, 56, 100)           256100    \n",
      "_________________________________________________________________\n",
      "max_pooling1d (MaxPooling1D) (None, 14, 100)           0         \n",
      "_________________________________________________________________\n",
      "lstm_2 (LSTM)                (None, 128)               117248    \n",
      "_________________________________________________________________\n",
      "dropout_2 (Dropout)          (None, 128)               0         \n",
      "_________________________________________________________________\n",
      "dense (Dense)                (None, 1)                 129       \n",
      "=================================================================\n",
      "Total params: 31,514,513\n",
      "Trainable params: 1,514,213\n",
      "Non-trainable params: 30,000,300\n",
      "_________________________________________________________________\n"
     ]
    }
   ],
   "source": [
    "lstm = Sequential()\n",
    "lstm.add(Embedding(n_words+1,300, input_length=max_length, weights=[embedding_matrix], trainable=False))\n",
    "lstm.add(Bidirectional(LSTM(256, return_sequences=True)))\n",
    "lstm.add(Dropout(0.2))\n",
    "lstm.add(Conv1D(100, 5, activation='relu'))\n",
    "lstm.add(MaxPooling1D(pool_size=4))\n",
    "lstm.add(LSTM(128))\n",
    "lstm.add(Dropout(0.4))\n",
    "lstm.add(Dense(1, activation='sigmoid'))\n",
    "\n",
    "lstm.summary()\n",
    "\n",
    "lstm.compile(loss='binary_crossentropy', optimizer='adam', metrics=['acc'])\n",
    "\n"
   ]
  },
  {
   "cell_type": "code",
   "execution_count": 66,
   "metadata": {},
   "outputs": [
    {
     "data": {
      "text/plain": [
       "51"
      ]
     },
     "execution_count": 66,
     "metadata": {},
     "output_type": "execute_result"
    }
   ],
   "source": [
    "del embeddings_index\n",
    "import gc\n",
    "gc.collect()"
   ]
  },
  {
   "cell_type": "code",
   "execution_count": 67,
   "metadata": {},
   "outputs": [
    {
     "name": "stdout",
     "output_type": "stream",
     "text": [
      "Epoch 1/5\n",
      "2296/2296 [==============================] - 173s 75ms/step - loss: 0.1049 - acc: 0.9584 - val_loss: 0.1027 - val_acc: 0.9590\n",
      "Epoch 2/5\n",
      "2296/2296 [==============================] - 171s 75ms/step - loss: 0.0978 - acc: 0.9611 - val_loss: 0.1027 - val_acc: 0.9594\n",
      "Epoch 3/5\n",
      "2296/2296 [==============================] - 171s 75ms/step - loss: 0.0902 - acc: 0.9638 - val_loss: 0.1023 - val_acc: 0.9592\n",
      "Epoch 4/5\n",
      "2296/2296 [==============================] - 172s 75ms/step - loss: 0.0812 - acc: 0.9673 - val_loss: 0.1073 - val_acc: 0.9582\n",
      "Epoch 5/5\n",
      "2296/2296 [==============================] - 172s 75ms/step - loss: 0.0712 - acc: 0.9717 - val_loss: 0.1158 - val_acc: 0.9574\n"
     ]
    }
   ],
   "source": [
    "history = lstm.fit(np.array(train_text), np.array(train_target), epochs = 5, validation_data=(np.array(cv_text),np.array(cv_target)), batch_size=512,verbose=1)"
   ]
  },
  {
   "cell_type": "markdown",
   "metadata": {},
   "source": [
    "<a id='ch4'></a>\n",
    "## 3.预测和可视化"
   ]
  },
  {
   "cell_type": "code",
   "execution_count": 68,
   "metadata": {},
   "outputs": [
    {
     "data": {
      "image/png": "[encoded data removed]",
      "text/plain": [
       "<Figure size 432x288 with 1 Axes>"
      ]
     },
     "metadata": {
      "needs_background": "light"
     },
     "output_type": "display_data"
    },
    {
     "data": {
      "image/png": "[encoded data removed]",
      "text/plain": [
       "<Figure size 432x288 with 1 Axes>"
      ]
     },
     "metadata": {
      "needs_background": "light"
     },
     "output_type": "display_data"
    }
   ],
   "source": [
    "import matplotlib.pyplot as plt\n",
    "\n",
    "\n",
    "acc = history.history['acc']\n",
    "val_acc = history.history['val_acc']\n",
    "loss = history.history['loss']\n",
    "val_loss = history.history['val_loss']\n",
    "\n",
    "epochs = range(5)\n",
    "##精确率图像\n",
    "plt.figure()\n",
    "plt.plot(epochs, acc, 'r')\n",
    "plt.plot(epochs, val_acc, 'b')\n",
    "plt.title('Training and validation accuracy')\n",
    "plt.xlabel(\"Epochs\")\n",
    "plt.ylabel(\"Accuracy\")\n",
    "plt.legend([\"Accuracy\", \"Validation Accuracy\"])\n",
    "plt.show()\n",
    "##损失图像\n",
    "plt.figure()\n",
    "plt.plot(epochs, loss, 'r')\n",
    "plt.plot(epochs, val_loss, 'b')\n",
    "plt.title('Training and validation loss')\n",
    "plt.xlabel(\"Epochs\")\n",
    "plt.ylabel(\"Loss\")\n",
    "plt.legend([\"Loss\", \"Validation Loss\"])\n",
    "plt.show()"
   ]
  },
  {
   "cell_type": "markdown",
   "metadata": {},
   "source": [
    "#### 可以看出有些过拟合，可以dropput多些，最大特征设置的大些？模型参数也可以调一下"
   ]
  },
  {
   "cell_type": "markdown",
   "metadata": {},
   "source": [
    "### 预测（f1分数）"
   ]
  },
  {
   "cell_type": "code",
   "execution_count": 70,
   "metadata": {},
   "outputs": [
    {
     "name": "stdout",
     "output_type": "stream",
     "text": [
      "F1 score at threshold 0.1 is 0.6273899294575529\n",
      "F1 score at threshold 0.11 is 0.6318757419865454\n",
      "F1 score at threshold 0.12 is 0.6351703406813627\n",
      "F1 score at threshold 0.13 is 0.6386171237390379\n",
      "F1 score at threshold 0.14 is 0.6419220699214538\n",
      "F1 score at threshold 0.15 is 0.6436984382296477\n",
      "F1 score at threshold 0.16 is 0.645103795344936\n",
      "F1 score at threshold 0.17 is 0.6472550161469639\n",
      "F1 score at threshold 0.18 is 0.647854203409759\n",
      "F1 score at threshold 0.19 is 0.6494767504585177\n",
      "F1 score at threshold 0.2 is 0.6501332463153314\n",
      "F1 score at threshold 0.21 is 0.651017386058246\n",
      "F1 score at threshold 0.22 is 0.6511627906976744\n",
      "F1 score at threshold 0.23 is 0.6521521242830893\n",
      "F1 score at threshold 0.24 is 0.6527863516471182\n",
      "F1 score at threshold 0.25 is 0.6531419529837251\n",
      "F1 score at threshold 0.26 is 0.6530054644808743\n",
      "F1 score at threshold 0.27 is 0.6523634694814135\n",
      "F1 score at threshold 0.28 is 0.652867715078631\n",
      "F1 score at threshold 0.29 is 0.6534791715150106\n",
      "F1 score at threshold 0.3 is 0.6537561432249005\n",
      "F1 score at threshold 0.31 is 0.6535970799481926\n",
      "F1 score at threshold 0.32 is 0.6528920727014387\n",
      "F1 score at threshold 0.33 is 0.6525964347463186\n",
      "F1 score at threshold 0.34 is 0.6513134220942786\n",
      "F1 score at threshold 0.35 is 0.65012077294686\n",
      "F1 score at threshold 0.36 is 0.649729532608035\n",
      "F1 score at threshold 0.37 is 0.6490487551232642\n",
      "F1 score at threshold 0.38 is 0.6481264997231281\n",
      "F1 score at threshold 0.39 is 0.6478263558221509\n",
      "F1 score at threshold 0.4 is 0.6472016435286061\n",
      "F1 score at threshold 0.41 is 0.6463849765258216\n",
      "F1 score at threshold 0.42 is 0.6449659348978046\n",
      "F1 score at threshold 0.43 is 0.6442033123929184\n",
      "F1 score at threshold 0.44 is 0.6422546012269938\n",
      "F1 score at threshold 0.45 is 0.6405817620181479\n",
      "F1 score at threshold 0.46 is 0.6384026967457539\n",
      "F1 score at threshold 0.47 is 0.6365770936603182\n",
      "F1 score at threshold 0.48 is 0.635331188866277\n",
      "F1 score at threshold 0.49 is 0.632742191635786\n",
      "F1 score at threshold 0.5 is 0.6293333333333334\n",
      "Best value [0.3, 0.6537561432249005]\n"
     ]
    }
   ],
   "source": [
    "from sklearn.metrics import f1_score\n",
    "cv_predictions = lstm.predict(cv_text, batch_size=512)\n",
    "\n",
    "thresholds = []\n",
    "for thresh in np.arange(0.1, 0.501, 0.01):\n",
    "    thresh = np.round(thresh, 2)\n",
    "    result = f1_score(cv_target, (cv_predictions>thresh).astype(int))\n",
    "    thresholds.append([thresh, result])\n",
    "    print(\"F1 score at threshold {} is {}\".format(thresh, result))\n",
    "\n",
    "thresholds.sort(key=lambda x: x[1], reverse=True)\n",
    "print(\"Best value {}\".format(thresholds[0]))\n",
    "best_thresh = thresholds[0]"
   ]
  },
  {
   "cell_type": "code",
   "execution_count": 82,
   "metadata": {},
   "outputs": [
    {
     "data": {
      "text/html": [
       "<div>\n",
       "<style scoped>\n",
       "    .dataframe tbody tr th:only-of-type {\n",
       "        vertical-align: middle;\n",
       "    }\n",
       "\n",
       "    .dataframe tbody tr th {\n",
       "        vertical-align: top;\n",
       "    }\n",
       "\n",
       "    .dataframe thead th {\n",
       "        text-align: right;\n",
       "    }\n",
       "</style>\n",
       "<table border=\"1\" class=\"dataframe\">\n",
       "  <thead>\n",
       "    <tr style=\"text-align: right;\">\n",
       "      <th>actual</th>\n",
       "      <th>0</th>\n",
       "      <th>1</th>\n",
       "      <th>All</th>\n",
       "    </tr>\n",
       "    <tr>\n",
       "      <th>pred</th>\n",
       "      <th></th>\n",
       "      <th></th>\n",
       "      <th></th>\n",
       "    </tr>\n",
       "  </thead>\n",
       "  <tbody>\n",
       "    <tr>\n",
       "      <th>0</th>\n",
       "      <td>120333</td>\n",
       "      <td>3241</td>\n",
       "      <td>123574</td>\n",
       "    </tr>\n",
       "    <tr>\n",
       "      <th>1</th>\n",
       "      <td>2319</td>\n",
       "      <td>4720</td>\n",
       "      <td>7039</td>\n",
       "    </tr>\n",
       "    <tr>\n",
       "      <th>All</th>\n",
       "      <td>122652</td>\n",
       "      <td>7961</td>\n",
       "      <td>130613</td>\n",
       "    </tr>\n",
       "  </tbody>\n",
       "</table>\n",
       "</div>"
      ],
      "text/plain": [
       "actual       0     1     All\n",
       "pred                        \n",
       "0       120333  3241  123574\n",
       "1         2319  4720    7039\n",
       "All     122652  7961  130613"
      ]
     },
     "execution_count": 82,
     "metadata": {},
     "output_type": "execute_result"
    }
   ],
   "source": [
    "predictions = lstm.predict(cv_text)\n",
    "predictions = np.around(predictions).astype(int)\n",
    "df = pd.DataFrame({'pred': predictions.flatten(), 'actual': cv_target})\n",
    "df.head()\n",
    "pd.crosstab(df['pred'], df['actual'], margins=True)"
   ]
  },
  {
   "cell_type": "code",
   "execution_count": 90,
   "metadata": {},
   "outputs": [],
   "source": [
    "predictions = lstm.predict(test_input_padded)"
   ]
  },
  {
   "cell_type": "code",
   "execution_count": null,
   "metadata": {},
   "outputs": [],
   "source": [
    "predictions1 = (predictions>best_thresh).astype(int)\n",
    "submission = pd.DataFrame({'qid': test_data.qid, 'prediction': predictions1[:,0]})\n",
    "submission.to_csv('submission.csv', index=False)"
   ]
  },
  {
   "cell_type": "markdown",
   "metadata": {},
   "source": [
    "![Cov1d](../photo/conv1d.jpg)"
   ]
  },
  {
   "cell_type": "markdown",
   "metadata": {},
   "source": [
    "[https://www.zhihu.com/question/41949741]\n",
    "\n",
    "\n",
    "https://blog.csdn.net/ssswill/article/details/88429794?utm_medium=distribute.pc_relevant.none-task-blog-BlogCommendFromBaidu-1.control&depth_1-utm_source=distribute.pc_relevant.none-task-blog-BlogCommendFromBaidu-1.control"
   ]
  },
  {
   "cell_type": "code",
   "execution_count": null,
   "metadata": {},
   "outputs": [],
   "source": []
  }
 ],
 "metadata": {
  "kernelspec": {
   "display_name": "Python 3",
   "language": "python",
   "name": "python3"
  },
  "language_info": {
   "codemirror_mode": {
    "name": "ipython",
    "version": 3
   },
   "file_extension": ".py",
   "mimetype": "text/x-python",
   "name": "python",
   "nbconvert_exporter": "python",
   "pygments_lexer": "ipython3",
   "version": "3.8.5"
  }
 },
 "nbformat": 4,
 "nbformat_minor": 4
}
