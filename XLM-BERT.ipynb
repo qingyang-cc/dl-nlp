{
 "cells": [
  {
   "cell_type": "markdown",
   "metadata": {
    "_cell_guid": "79c7e3d0-c299-4dcb-8224-4455121ee9b0",
    "_uuid": "d629ff2d2480ee46fbb7e2d37f6b5fab8052498a",
    "collapsed": true,
    "papermill": {
     "duration": 0.015081,
     "end_time": "2021-01-10T06:51:26.209533",
     "exception": false,
     "start_time": "2021-01-10T06:51:26.194452",
     "status": "completed"
    },
    "tags": []
   },
   "source": [
    "### augument text 文本数据增强\n",
    "    - 回译（效果比较好）\n",
    "    - EDA（同义词替换、插入、交换和删除）（效果还行）\n",
    "    - HMM-marko（质量较差）\n",
    "    - syntax（依存句法、句法、语法书）（简单句还可）\n",
    "    - seq2seq（深度学习同义句生成，效果不理想，seq2seq代码大都是 [https://github.com/qhduan/just_another_seq2seq] 的，效果不理想）\n",
    "\n",
    ">- 相较于图像数据增强，文本数据增强，现在还是有很多问题的；\n",
    ">- 往更严格的角度看，文本数据增强更像是同义句生成，但又不完全是，它是一个更大范围的概念；\n",
    ">- 很多时候，需要文本数据增强，一个是常常遇到的数据不足，另一个就是数据不均衡。\n",
    ">- 我的感觉是，文本数据增强的有效方法:\n",
    ">- 一个是回译（翻译两次，例如中文到英文，然后英文再到中文），\n",
    ">- 另外一个就是EDA（同义词替换、插入、交换和删除），插入和交换当时确实没有想到用"
   ]
  },
  {
   "cell_type": "code",
   "execution_count": 2,
   "metadata": {
    "execution": {
     "iopub.execute_input": "2021-01-10T06:51:26.247061Z",
     "iopub.status.busy": "2021-01-10T06:51:26.246349Z",
     "iopub.status.idle": "2021-01-10T06:51:36.212024Z",
     "shell.execute_reply": "2021-01-10T06:51:36.212719Z"
    },
    "papermill": {
     "duration": 9.987855,
     "end_time": "2021-01-10T06:51:36.212877",
     "exception": false,
     "start_time": "2021-01-10T06:51:26.225022",
     "status": "completed"
    },
    "tags": []
   },
   "outputs": [
    {
     "name": "stderr",
     "output_type": "stream",
     "text": [
      "\u001b[34m\u001b[1mwandb\u001b[0m: \u001b[33mWARNING\u001b[0m W&B installed but not logged in.  Run `wandb login` or set the WANDB_API_KEY env variable.\n"
     ]
    }
   ],
   "source": [
    "import tensorflow as tf\n",
    "from transformers import TFXLMRobertaModel, XLMRobertaTokenizer\n",
    "from sklearn.model_selection import train_test_split\n",
    "import pandas as pd\n",
    "import numpy as np\n",
    "import matplotlib.pyplot as plt\n",
    "import re\n",
    "import transformers\n",
    "from sklearn.utils import shuffle"
   ]
  },
  {
   "cell_type": "markdown",
   "metadata": {
    "papermill": {
     "duration": 0.015609,
     "end_time": "2021-01-10T06:51:36.244761",
     "exception": false,
     "start_time": "2021-01-10T06:51:36.229152",
     "status": "completed"
    },
    "tags": []
   },
   "source": [
    "### 读取、处理数据\n"
   ]
  },
  {
   "cell_type": "code",
   "execution_count": 3,
   "metadata": {
    "execution": {
     "iopub.execute_input": "2021-01-10T06:51:36.280426Z",
     "iopub.status.busy": "2021-01-10T06:51:36.279644Z",
     "iopub.status.idle": "2021-01-10T06:51:36.426454Z",
     "shell.execute_reply": "2021-01-10T06:51:36.427010Z"
    },
    "papermill": {
     "duration": 0.166516,
     "end_time": "2021-01-10T06:51:36.427156",
     "exception": false,
     "start_time": "2021-01-10T06:51:36.260640",
     "status": "completed"
    },
    "tags": []
   },
   "outputs": [
    {
     "data": {
      "text/html": [
       "<div>\n",
       "<style scoped>\n",
       "    .dataframe tbody tr th:only-of-type {\n",
       "        vertical-align: middle;\n",
       "    }\n",
       "\n",
       "    .dataframe tbody tr th {\n",
       "        vertical-align: top;\n",
       "    }\n",
       "\n",
       "    .dataframe thead th {\n",
       "        text-align: right;\n",
       "    }\n",
       "</style>\n",
       "<table border=\"1\" class=\"dataframe\">\n",
       "  <thead>\n",
       "    <tr style=\"text-align: right;\">\n",
       "      <th></th>\n",
       "      <th>id</th>\n",
       "      <th>premise</th>\n",
       "      <th>hypothesis</th>\n",
       "      <th>lang_abv</th>\n",
       "      <th>language</th>\n",
       "      <th>label</th>\n",
       "    </tr>\n",
       "  </thead>\n",
       "  <tbody>\n",
       "    <tr>\n",
       "      <th>11559</th>\n",
       "      <td>ea29c228b2</td>\n",
       "      <td>This guide will introduce you to many, but not...</td>\n",
       "      <td>The guide includes all of the popular Aegean I...</td>\n",
       "      <td>en</td>\n",
       "      <td>English</td>\n",
       "      <td>2</td>\n",
       "    </tr>\n",
       "    <tr>\n",
       "      <th>7229</th>\n",
       "      <td>81ac812095</td>\n",
       "      <td>oh i believe that uh mine would say the same u...</td>\n",
       "      <td>Oh no way, I do not believe that and you can b...</td>\n",
       "      <td>en</td>\n",
       "      <td>English</td>\n",
       "      <td>2</td>\n",
       "    </tr>\n",
       "    <tr>\n",
       "      <th>8434</th>\n",
       "      <td>a10c05b6e5</td>\n",
       "      <td>L'officier qui avait observé la tour sud s'écr...</td>\n",
       "      <td>L'officier a été témoin de l'effondrement de l...</td>\n",
       "      <td>fr</td>\n",
       "      <td>French</td>\n",
       "      <td>0</td>\n",
       "    </tr>\n",
       "    <tr>\n",
       "      <th>4336</th>\n",
       "      <td>5cd7bb335d</td>\n",
       "      <td>是的，正是我的意思，你武装上阵后，就不得不汗流浃背去做，你可以去地中海俱乐部，呃，全包，包括假期</td>\n",
       "      <td>装备真的很便宜。</td>\n",
       "      <td>zh</td>\n",
       "      <td>Chinese</td>\n",
       "      <td>2</td>\n",
       "    </tr>\n",
       "    <tr>\n",
       "      <th>5702</th>\n",
       "      <td>57e0080d48</td>\n",
       "      <td>Generally, FGD systems tend to be constructed ...</td>\n",
       "      <td>FGD systems tend to replicate SCR systems.</td>\n",
       "      <td>en</td>\n",
       "      <td>English</td>\n",
       "      <td>2</td>\n",
       "    </tr>\n",
       "  </tbody>\n",
       "</table>\n",
       "</div>"
      ],
      "text/plain": [
       "               id                                            premise  \\\n",
       "11559  ea29c228b2  This guide will introduce you to many, but not...   \n",
       "7229   81ac812095  oh i believe that uh mine would say the same u...   \n",
       "8434   a10c05b6e5  L'officier qui avait observé la tour sud s'écr...   \n",
       "4336   5cd7bb335d   是的，正是我的意思，你武装上阵后，就不得不汗流浃背去做，你可以去地中海俱乐部，呃，全包，包括假期   \n",
       "5702   57e0080d48  Generally, FGD systems tend to be constructed ...   \n",
       "\n",
       "                                              hypothesis lang_abv language  \\\n",
       "11559  The guide includes all of the popular Aegean I...       en  English   \n",
       "7229   Oh no way, I do not believe that and you can b...       en  English   \n",
       "8434   L'officier a été témoin de l'effondrement de l...       fr   French   \n",
       "4336                                            装备真的很便宜。       zh  Chinese   \n",
       "5702          FGD systems tend to replicate SCR systems.       en  English   \n",
       "\n",
       "       label  \n",
       "11559      2  \n",
       "7229       2  \n",
       "8434       0  \n",
       "4336       2  \n",
       "5702       2  "
      ]
     },
     "execution_count": 3,
     "metadata": {},
     "output_type": "execute_result"
    }
   ],
   "source": [
    "train_df = pd.read_csv('../input/contradictory-my-dear-watson/train.csv')\n",
    "train_df = shuffle (train_df)\n",
    "train_df.head()"
   ]
  },
  {
   "cell_type": "code",
   "execution_count": 4,
   "metadata": {
    "execution": {
     "iopub.execute_input": "2021-01-10T06:51:36.465582Z",
     "iopub.status.busy": "2021-01-10T06:51:36.464957Z",
     "iopub.status.idle": "2021-01-10T06:51:36.524679Z",
     "shell.execute_reply": "2021-01-10T06:51:36.525241Z"
    },
    "papermill": {
     "duration": 0.081499,
     "end_time": "2021-01-10T06:51:36.525386",
     "exception": false,
     "start_time": "2021-01-10T06:51:36.443887",
     "status": "completed"
    },
    "tags": []
   },
   "outputs": [
    {
     "data": {
      "text/html": [
       "<div>\n",
       "<style scoped>\n",
       "    .dataframe tbody tr th:only-of-type {\n",
       "        vertical-align: middle;\n",
       "    }\n",
       "\n",
       "    .dataframe tbody tr th {\n",
       "        vertical-align: top;\n",
       "    }\n",
       "\n",
       "    .dataframe thead th {\n",
       "        text-align: right;\n",
       "    }\n",
       "</style>\n",
       "<table border=\"1\" class=\"dataframe\">\n",
       "  <thead>\n",
       "    <tr style=\"text-align: right;\">\n",
       "      <th></th>\n",
       "      <th>id</th>\n",
       "      <th>premise</th>\n",
       "      <th>hypothesis</th>\n",
       "      <th>lang_abv</th>\n",
       "      <th>language</th>\n",
       "    </tr>\n",
       "  </thead>\n",
       "  <tbody>\n",
       "    <tr>\n",
       "      <th>665</th>\n",
       "      <td>f437e2979e</td>\n",
       "      <td>Mbali na LNL na Allenbrand-Drews, shitaka inat...</td>\n",
       "      <td>Allenbrand na Drews watafungwa na madai ya uongo.</td>\n",
       "      <td>sw</td>\n",
       "      <td>Swahili</td>\n",
       "    </tr>\n",
       "    <tr>\n",
       "      <th>1699</th>\n",
       "      <td>8ced3d2267</td>\n",
       "      <td>She, in turn, was worshipped by her subjects a...</td>\n",
       "      <td>She was, as a result, revered by her subjects ...</td>\n",
       "      <td>en</td>\n",
       "      <td>English</td>\n",
       "    </tr>\n",
       "    <tr>\n",
       "      <th>4380</th>\n",
       "      <td>fba6f5ed16</td>\n",
       "      <td>The students' reaction was swift and contentio...</td>\n",
       "      <td>The students had strong reactions.</td>\n",
       "      <td>en</td>\n",
       "      <td>English</td>\n",
       "    </tr>\n",
       "    <tr>\n",
       "      <th>4108</th>\n",
       "      <td>06d518d463</td>\n",
       "      <td>China could never trump the warhead blizzard W...</td>\n",
       "      <td>China will likely never shoot a warhead at the...</td>\n",
       "      <td>en</td>\n",
       "      <td>English</td>\n",
       "    </tr>\n",
       "    <tr>\n",
       "      <th>3306</th>\n",
       "      <td>9f963b38f4</td>\n",
       "      <td>It is not possible to walk up through the wate...</td>\n",
       "      <td>The steps are covered in mossy and very slippy.</td>\n",
       "      <td>en</td>\n",
       "      <td>English</td>\n",
       "    </tr>\n",
       "    <tr>\n",
       "      <th>693</th>\n",
       "      <td>f266031231</td>\n",
       "      <td>The pieces paying 33.</td>\n",
       "      <td>More than 30 pieces paying.</td>\n",
       "      <td>en</td>\n",
       "      <td>English</td>\n",
       "    </tr>\n",
       "  </tbody>\n",
       "</table>\n",
       "</div>"
      ],
      "text/plain": [
       "              id                                            premise  \\\n",
       "665   f437e2979e  Mbali na LNL na Allenbrand-Drews, shitaka inat...   \n",
       "1699  8ced3d2267  She, in turn, was worshipped by her subjects a...   \n",
       "4380  fba6f5ed16  The students' reaction was swift and contentio...   \n",
       "4108  06d518d463  China could never trump the warhead blizzard W...   \n",
       "3306  9f963b38f4  It is not possible to walk up through the wate...   \n",
       "693   f266031231                              The pieces paying 33.   \n",
       "\n",
       "                                             hypothesis lang_abv language  \n",
       "665   Allenbrand na Drews watafungwa na madai ya uongo.       sw  Swahili  \n",
       "1699  She was, as a result, revered by her subjects ...       en  English  \n",
       "4380                 The students had strong reactions.       en  English  \n",
       "4108  China will likely never shoot a warhead at the...       en  English  \n",
       "3306    The steps are covered in mossy and very slippy.       en  English  \n",
       "693                         More than 30 pieces paying.       en  English  "
      ]
     },
     "execution_count": 4,
     "metadata": {},
     "output_type": "execute_result"
    }
   ],
   "source": [
    "test_df = pd.read_csv('../input/contradictory-my-dear-watson/test.csv')\n",
    "test_df.sample(6)"
   ]
  },
  {
   "cell_type": "code",
   "execution_count": 5,
   "metadata": {
    "execution": {
     "iopub.execute_input": "2021-01-10T06:51:36.563794Z",
     "iopub.status.busy": "2021-01-10T06:51:36.563110Z",
     "iopub.status.idle": "2021-01-10T06:51:36.847039Z",
     "shell.execute_reply": "2021-01-10T06:51:36.846427Z"
    },
    "papermill": {
     "duration": 0.304308,
     "end_time": "2021-01-10T06:51:36.847175",
     "exception": false,
     "start_time": "2021-01-10T06:51:36.542867",
     "status": "completed"
    },
    "tags": []
   },
   "outputs": [
    {
     "data": {
      "image/png": "[encoded data removed]",
      "text/plain": [
       "<Figure size 432x432 with 1 Axes>"
      ]
     },
     "metadata": {},
     "output_type": "display_data"
    }
   ],
   "source": [
    "plt.figure(figsize = (6, 6))\n",
    "#plt.bar(np.unique(train_df['language'].value_counts().index), train_df['language'].value_counts().values)<---有数值很大，效果不好\n",
    "#plt.pie(train_df['language'].value_counts().values, labels=np.unique(train_df['language']))\n",
    "labels, frequencies = np.unique(train_df['language'].values, return_counts = True)\n",
    "#unique函数会打乱顺序，只能np.unique(return_counts = True)\n",
    "plt.pie(frequencies, labels = labels, autopct = '%1.1f%%')\n",
    "plt.legend(loc = 'best')\n",
    "plt.title('Language disturbution')\n",
    "plt.show()"
   ]
  },
  {
   "cell_type": "markdown",
   "metadata": {
    "papermill": {
     "duration": 0.019364,
     "end_time": "2021-01-10T06:51:36.886247",
     "exception": false,
     "start_time": "2021-01-10T06:51:36.866883",
     "status": "completed"
    },
    "tags": []
   },
   "source": [
    "> -可以看出数据不平衡，考虑text augment"
   ]
  },
  {
   "cell_type": "code",
   "execution_count": 6,
   "metadata": {
    "execution": {
     "iopub.execute_input": "2021-01-10T06:51:36.932836Z",
     "iopub.status.busy": "2021-01-10T06:51:36.932180Z",
     "iopub.status.idle": "2021-01-10T06:51:37.025368Z",
     "shell.execute_reply": "2021-01-10T06:51:37.024633Z"
    },
    "papermill": {
     "duration": 0.119389,
     "end_time": "2021-01-10T06:51:37.025491",
     "exception": false,
     "start_time": "2021-01-10T06:51:36.906102",
     "status": "completed"
    },
    "tags": []
   },
   "outputs": [
    {
     "data": {
      "image/png": "[encoded data removed]",
      "text/plain": [
       "<Figure size 360x360 with 1 Axes>"
      ]
     },
     "metadata": {},
     "output_type": "display_data"
    }
   ],
   "source": [
    "labels, freq = np.unique(train_df.label.values, return_counts = True)\n",
    "plt.figure(figsize = (5, 5))\n",
    "plt.pie(freq, labels = labels, autopct = '%1.1f%%')\n",
    "plt.legend()\n",
    "plt.title('Label disturbution')\n",
    "plt.show()\n",
    "#label = 0 -- entailment\n",
    "#label = 1 -- neural\n",
    "#label = 2 -- contradi"
   ]
  },
  {
   "cell_type": "code",
   "execution_count": 7,
   "metadata": {
    "execution": {
     "iopub.execute_input": "2021-01-10T06:51:37.099893Z",
     "iopub.status.busy": "2021-01-10T06:51:37.084848Z",
     "iopub.status.idle": "2021-01-10T06:51:37.113053Z",
     "shell.execute_reply": "2021-01-10T06:51:37.112419Z"
    },
    "papermill": {
     "duration": 0.066996,
     "end_time": "2021-01-10T06:51:37.113173",
     "exception": false,
     "start_time": "2021-01-10T06:51:37.046177",
     "status": "completed"
    },
    "tags": []
   },
   "outputs": [],
   "source": [
    "train_df['premise'] = train_df['premise'].apply(lambda x: x.lower())\n",
    "test_df['premise'] = test_df['premise'].apply(lambda x: x.lower())\n",
    "train_df['hypothesis'] = train_df['hypothesis'].apply(lambda x: x.lower())\n",
    "test_df['hypothesis'] = test_df['hypothesis'].apply(lambda x: x.lower())\n"
   ]
  },
  {
   "cell_type": "markdown",
   "metadata": {
    "papermill": {
     "duration": 0.020084,
     "end_time": "2021-01-10T06:51:37.153764",
     "exception": false,
     "start_time": "2021-01-10T06:51:37.133680",
     "status": "completed"
    },
    "tags": []
   },
   "source": [
    "### 训练模型"
   ]
  },
  {
   "cell_type": "markdown",
   "metadata": {
    "papermill": {
     "duration": 0.020315,
     "end_time": "2021-01-10T06:51:37.194522",
     "exception": false,
     "start_time": "2021-01-10T06:51:37.174207",
     "status": "completed"
    },
    "tags": []
   },
   "source": [
    "### tensorflow 分布式计算"
   ]
  },
  {
   "cell_type": "code",
   "execution_count": 8,
   "metadata": {
    "execution": {
     "iopub.execute_input": "2021-01-10T06:51:37.345429Z",
     "iopub.status.busy": "2021-01-10T06:51:37.295504Z",
     "iopub.status.idle": "2021-01-10T06:51:41.288820Z",
     "shell.execute_reply": "2021-01-10T06:51:41.289406Z"
    },
    "papermill": {
     "duration": 4.073236,
     "end_time": "2021-01-10T06:51:41.289553",
     "exception": false,
     "start_time": "2021-01-10T06:51:37.216317",
     "status": "completed"
    },
    "tags": []
   },
   "outputs": [
    {
     "name": "stdout",
     "output_type": "stream",
     "text": [
      "Running on TPU  grpc://10.0.0.2:8470\n",
      "Number of replicas: 8\n"
     ]
    }
   ],
   "source": [
    "# TPU detection. No parameters necessary if TPU_NAME environment variable is\n",
    "# set: this is always the case on Kaggle.\n",
    "try:\n",
    "    tpu = tf.distribute.cluster_resolver.TPUClusterResolver()\n",
    "    tf.config.experimental_connect_to_cluster(tpu)\n",
    "    tf.tpu.experimental.initialize_tpu_system(tpu)\n",
    "    strategy = tf.distribute.experimental.TPUStrategy(tpu)\n",
    "    print('Running on TPU ', tpu.master())\n",
    "except ValueError:\n",
    "    strategy = tf.distribute.get_strategy() # for CPU and single GPU\n",
    "\n",
    "print('Number of replicas:', strategy.num_replicas_in_sync) #输出设备数量"
   ]
  },
  {
   "cell_type": "code",
   "execution_count": 9,
   "metadata": {
    "execution": {
     "iopub.execute_input": "2021-01-10T06:51:41.336172Z",
     "iopub.status.busy": "2021-01-10T06:51:41.335486Z",
     "iopub.status.idle": "2021-01-10T06:51:45.398017Z",
     "shell.execute_reply": "2021-01-10T06:51:45.397419Z"
    },
    "papermill": {
     "duration": 4.08713,
     "end_time": "2021-01-10T06:51:45.398143",
     "exception": false,
     "start_time": "2021-01-10T06:51:41.311013",
     "status": "completed"
    },
    "tags": []
   },
   "outputs": [
    {
     "data": {
      "application/vnd.jupyter.widget-view+json": {
       "model_id": "a06d4edf5d134347b278b6a16e265043",
       "version_major": 2,
       "version_minor": 0
      },
      "text/plain": [
       "HBox(children=(FloatProgress(value=0.0, description='Downloading', max=5069051.0, style=ProgressStyle(descript…"
      ]
     },
     "metadata": {},
     "output_type": "display_data"
    },
    {
     "name": "stdout",
     "output_type": "stream",
     "text": [
      "\n"
     ]
    }
   ],
   "source": [
    "seed = 0\n",
    "tf.random.set_seed(seed)\n",
    "\n",
    "model_name = 'jplu/tf-xlm-roberta-large'\n",
    "tokenizer = XLMRobertaTokenizer.from_pretrained(model_name)"
   ]
  },
  {
   "cell_type": "markdown",
   "metadata": {
    "papermill": {
     "duration": 0.021785,
     "end_time": "2021-01-10T06:51:45.441975",
     "exception": false,
     "start_time": "2021-01-10T06:51:45.420190",
     "status": "completed"
    },
    "tags": []
   },
   "source": [
    ">xlm-Roberta使用是推特语料，2.5T的推特语料对于低资源语料也覆盖的比较好，roberta对于Bert也有了一些别的改进比如去掉了nsp任务和将bert的静态mask换成动态mask，所谓动态mask就是将语料复制十份，每一份都随机选择15%的Tokens进行Masking，也就是说，同样的一句话有10种不同的mask方式。然后每份数据都训练N/10个epoch。这就相当于在这N个epoch的训练中，每个序列的被mask的tokens是会变化的。这就叫做动态Masking。"
   ]
  },
  {
   "cell_type": "code",
   "execution_count": 10,
   "metadata": {
    "execution": {
     "iopub.execute_input": "2021-01-10T06:51:45.497736Z",
     "iopub.status.busy": "2021-01-10T06:51:45.492488Z",
     "iopub.status.idle": "2021-01-10T06:51:45.504877Z",
     "shell.execute_reply": "2021-01-10T06:51:45.504333Z"
    },
    "papermill": {
     "duration": 0.04088,
     "end_time": "2021-01-10T06:51:45.505032",
     "exception": false,
     "start_time": "2021-01-10T06:51:45.464152",
     "status": "completed"
    },
    "tags": []
   },
   "outputs": [],
   "source": [
    "def build_model():\n",
    "    with strategy.scope():\n",
    "        \n",
    "        bert_encoder = TFXLMRobertaModel.from_pretrained(model_name)\n",
    "        #bert_encoder = TFRobertaModel.from_pretrained(model_name)\n",
    "        \n",
    "        # 定义输入（注意token为Int类型）\n",
    "        input_word_ids = tf.keras.Input(shape=(None,), dtype=tf.int32, name=\"input_word_ids\")\n",
    "        input_mask = tf.keras.Input(shape=(None,), dtype=tf.int32, name=\"input_mask\")\n",
    "        \n",
    "        #定义微调模型 XLMRoberta\n",
    "        \n",
    "        #将输入转换为Bert embedding\n",
    "        embedding = bert_encoder([input_word_ids, input_mask])[0]\n",
    "        \n",
    "        #定义最终分类层，输出的是0、1、2三个分类，故最终dense=3\n",
    "        output_layer = tf.keras.layers.Dropout(0.3)(embedding)\n",
    "        output_layer = tf.keras.layers.BatchNormalization()(output_layer)\n",
    "        output_layer = tf.keras.layers.GlobalAveragePooling1D()(output_layer)\n",
    "        output_layer = tf.keras.layers.Dropout(0.3)(output_layer)\n",
    "        output_dense_layer = tf.keras.layers.Dense(64, activation='relu')(output_layer)\n",
    "        output_dense_layer = tf.keras.layers.Dense(32, activation='relu')(output_dense_layer)\n",
    "        output = tf.keras.layers.Dense(3, activation='softmax')(output_dense_layer)\n",
    "\n",
    "        # 训练参数\n",
    "        model = tf.keras.Model(inputs=[input_word_ids, input_mask], outputs=output)\n",
    "        model.compile(tf.keras.optimizers.Adam(lr=1e-5), loss='sparse_categorical_crossentropy', metrics=['accuracy'])\n",
    "\n",
    "        return model"
   ]
  },
  {
   "cell_type": "markdown",
   "metadata": {},
   "source": [
    "### 尝试标准化，去掉一个Dense层，以及dropout，增大验证集，改变Batch_size等方法缓解过拟合。训练多次后发现标准化提升较大"
   ]
  },
  {
   "cell_type": "code",
   "execution_count": 11,
   "metadata": {
    "execution": {
     "iopub.execute_input": "2021-01-10T06:51:45.552368Z",
     "iopub.status.busy": "2021-01-10T06:51:45.551662Z",
     "iopub.status.idle": "2021-01-10T06:54:48.807652Z",
     "shell.execute_reply": "2021-01-10T06:54:48.808204Z"
    },
    "papermill": {
     "duration": 183.281324,
     "end_time": "2021-01-10T06:54:48.808371",
     "exception": false,
     "start_time": "2021-01-10T06:51:45.527047",
     "status": "completed"
    },
    "tags": []
   },
   "outputs": [
    {
     "data": {
      "application/vnd.jupyter.widget-view+json": {
       "model_id": "6cce4f309ca14f90b87d472ffd2f2129",
       "version_major": 2,
       "version_minor": 0
      },
      "text/plain": [
       "HBox(children=(FloatProgress(value=0.0, description='Downloading', max=513.0, style=ProgressStyle(description_…"
      ]
     },
     "metadata": {},
     "output_type": "display_data"
    },
    {
     "name": "stdout",
     "output_type": "stream",
     "text": [
      "\n"
     ]
    },
    {
     "data": {
      "application/vnd.jupyter.widget-view+json": {
       "model_id": "0a263efd5ea04837a7a0bc139720f784",
       "version_major": 2,
       "version_minor": 0
      },
      "text/plain": [
       "HBox(children=(FloatProgress(value=0.0, description='Downloading', max=3271420488.0, style=ProgressStyle(descr…"
      ]
     },
     "metadata": {},
     "output_type": "display_data"
    },
    {
     "name": "stdout",
     "output_type": "stream",
     "text": [
      "\n",
      "Model: \"model\"\n",
      "__________________________________________________________________________________________________\n",
      "Layer (type)                    Output Shape         Param #     Connected to                     \n",
      "==================================================================================================\n",
      "input_word_ids (InputLayer)     [(None, None)]       0                                            \n",
      "__________________________________________________________________________________________________\n",
      "input_mask (InputLayer)         [(None, None)]       0                                            \n",
      "__________________________________________________________________________________________________\n",
      "tfxlm_roberta_model (TFXLMRober ((None, None, 1024), 559890432   input_word_ids[0][0]             \n",
      "                                                                 input_mask[0][0]                 \n",
      "__________________________________________________________________________________________________\n",
      "dropout_74 (Dropout)            (None, None, 1024)   0           tfxlm_roberta_model[0][0]        \n",
      "__________________________________________________________________________________________________\n",
      "batch_normalization (BatchNorma (None, None, 1024)   4096        dropout_74[0][0]                 \n",
      "__________________________________________________________________________________________________\n",
      "global_average_pooling1d (Globa (None, 1024)         0           batch_normalization[0][0]        \n",
      "__________________________________________________________________________________________________\n",
      "dropout_75 (Dropout)            (None, 1024)         0           global_average_pooling1d[0][0]   \n",
      "__________________________________________________________________________________________________\n",
      "dense (Dense)                   (None, 64)           65600       dropout_75[0][0]                 \n",
      "__________________________________________________________________________________________________\n",
      "dense_1 (Dense)                 (None, 32)           2080        dense[0][0]                      \n",
      "__________________________________________________________________________________________________\n",
      "dense_2 (Dense)                 (None, 3)            99          dense_1[0][0]                    \n",
      "==================================================================================================\n",
      "Total params: 559,962,307\n",
      "Trainable params: 559,960,259\n",
      "Non-trainable params: 2,048\n",
      "__________________________________________________________________________________________________\n"
     ]
    }
   ],
   "source": [
    "# 调用并查看模型结构\n",
    "with strategy.scope():\n",
    "    model = build_model()\n",
    "    model.summary() "
   ]
  },
  {
   "cell_type": "code",
   "execution_count": 12,
   "metadata": {
    "execution": {
     "iopub.execute_input": "2021-01-10T06:54:48.877870Z",
     "iopub.status.busy": "2021-01-10T06:54:48.874372Z",
     "iopub.status.idle": "2021-01-10T06:54:52.927184Z",
     "shell.execute_reply": "2021-01-10T06:54:52.926024Z"
    },
    "papermill": {
     "duration": 4.094649,
     "end_time": "2021-01-10T06:54:52.927334",
     "exception": false,
     "start_time": "2021-01-10T06:54:48.832685",
     "status": "completed"
    },
    "tags": []
   },
   "outputs": [],
   "source": [
    "#batch_size = 8 * strategy.num_replicas_in_sync\n",
    "batch_size = 128\n",
    "auto = tf.data.experimental.AUTOTUNE ##自动设置为最大的可用线程数\n",
    "\n",
    "def make_data(train_input, train_label):\n",
    "    dataset = tf.data.Dataset.from_tensor_slices(\n",
    "        (\n",
    "            train_input,\n",
    "            train_label\n",
    "        )\n",
    "    ).repeat().shuffle(batch_size).batch(batch_size).prefetch(auto)\n",
    "    return dataset\n",
    "'''让多个特征对应一个标签。\n",
    "之后把特征和标签组合成一个tuple，\n",
    "那么我们的想法是让每个标签都恰好对应2个特征，而且像直接切片，比如：[f11, f12] [t1]。\n",
    "f11表示第一个数据的第一个特征，f12表示第1个数据的第二个特征，t1表示第一个数据标签。\n",
    "那么tf.data.Dataset.from_tensor_slices就是做了这件事情：'''\n",
    "\n",
    "def xlm_roberta_encode(hypotheses, premises,augmentation=False):\n",
    "    sentence_1 = [tokenizer.encode(s) for s in premises]\n",
    "    sentence_2 = [tokenizer.encode(s) for s in hypotheses]\n",
    "    input_word_ids = list(map(lambda x: x[0]+x[1], list(zip(sentence_1,sentence_2))))\n",
    "    input_mask = [np.ones_like(x) for x in input_word_ids]\n",
    "    inputs = {\n",
    "        'input_word_ids': tf.keras.preprocessing.sequence.pad_sequences(input_word_ids, padding='post'),\n",
    "        'input_mask': tf.keras.preprocessing.sequence.pad_sequences(input_mask, padding='post')\n",
    "    }\n",
    "    return inputs\n",
    "\n",
    "#切分数据集 \n",
    "train1_df, valid_df = train_test_split(train_df, test_size=0.2)\n",
    "\n",
    "#数据token\n",
    "train_input = xlm_roberta_encode(train1_df.premise.values, train1_df.hypothesis.values)\n",
    "train_label = train1_df.label.values\n",
    "valid_input = xlm_roberta_encode(valid_df.premise.values, valid_df.hypothesis.values)\n",
    "valid_label = valid_df.label.values\n",
    "\n",
    "#生成训练数据\n",
    "train_seq = make_data(train_input, train_label)\n",
    "tf.keras.backend.clear_session()\n",
    "\n",
    "n_step = len(train_label)//batch_size\n"
   ]
  },
  {
   "cell_type": "code",
   "execution_count": 13,
   "metadata": {
    "execution": {
     "iopub.execute_input": "2021-01-10T06:54:52.983845Z",
     "iopub.status.busy": "2021-01-10T06:54:52.983147Z",
     "iopub.status.idle": "2021-01-10T06:54:52.986929Z",
     "shell.execute_reply": "2021-01-10T06:54:52.985933Z"
    },
    "papermill": {
     "duration": 0.035022,
     "end_time": "2021-01-10T06:54:52.987069",
     "exception": false,
     "start_time": "2021-01-10T06:54:52.952047",
     "status": "completed"
    },
    "tags": []
   },
   "outputs": [
    {
     "name": "stdout",
     "output_type": "stream",
     "text": [
      "训练集: 9696\n",
      "验证集: 2424\n",
      "测试集 5195\n"
     ]
    }
   ],
   "source": [
    "print('训练集:', len(train_label))\n",
    "print('验证集:', len(valid_label))\n",
    "print('测试集', len(test_df))"
   ]
  },
  {
   "cell_type": "code",
   "execution_count": 14,
   "metadata": {
    "execution": {
     "iopub.execute_input": "2021-01-10T06:54:53.058797Z",
     "iopub.status.busy": "2021-01-10T06:54:53.057973Z",
     "iopub.status.idle": "2021-01-10T07:17:05.005544Z",
     "shell.execute_reply": "2021-01-10T07:17:05.004941Z"
    },
    "papermill": {
     "duration": 1331.993353,
     "end_time": "2021-01-10T07:17:05.005689",
     "exception": false,
     "start_time": "2021-01-10T06:54:53.012336",
     "status": "completed"
    },
    "tags": []
   },
   "outputs": [
    {
     "name": "stdout",
     "output_type": "stream",
     "text": [
      "Epoch 1/40\n"
     ]
    },
    {
     "name": "stderr",
     "output_type": "stream",
     "text": [
      "/opt/conda/lib/python3.7/site-packages/tensorflow/python/framework/indexed_slices.py:431: UserWarning: Converting sparse IndexedSlices to a dense Tensor with 256002048 elements. This may consume a large amount of memory.\n",
      "  num_elements)\n"
     ]
    },
    {
     "name": "stdout",
     "output_type": "stream",
     "text": [
      "75/75 [==============================] - 103s 1s/step - accuracy: 0.3630 - loss: 1.1017 - val_accuracy: 0.4719 - val_loss: 1.0843 - lr: 1.0000e-05\n",
      "Epoch 2/40\n",
      "75/75 [==============================] - 52s 695ms/step - accuracy: 0.6201 - loss: 0.8447 - val_accuracy: 0.7368 - val_loss: 0.7463 - lr: 1.0000e-05\n",
      "Epoch 3/40\n",
      "75/75 [==============================] - 53s 702ms/step - accuracy: 0.7665 - loss: 0.5861 - val_accuracy: 0.7859 - val_loss: 0.5651 - lr: 1.0000e-05\n",
      "Epoch 4/40\n",
      "75/75 [==============================] - 52s 694ms/step - accuracy: 0.8193 - loss: 0.4631 - val_accuracy: 0.7946 - val_loss: 0.5284 - lr: 1.0000e-05\n",
      "Epoch 5/40\n",
      "75/75 [==============================] - 52s 693ms/step - accuracy: 0.8584 - loss: 0.3766 - val_accuracy: 0.8078 - val_loss: 0.5742 - lr: 1.0000e-05\n",
      "Epoch 6/40\n",
      "75/75 [==============================] - 42s 562ms/step - accuracy: 0.8943 - loss: 0.2908 - val_accuracy: 0.8045 - val_loss: 0.6166 - lr: 1.0000e-05\n",
      "Epoch 7/40\n",
      "75/75 [==============================] - 42s 562ms/step - accuracy: 0.9189 - loss: 0.2287 - val_accuracy: 0.7979 - val_loss: 0.7380 - lr: 1.0000e-05\n",
      "Epoch 8/40\n",
      "75/75 [==============================] - 42s 563ms/step - accuracy: 0.9315 - loss: 0.1925 - val_accuracy: 0.7966 - val_loss: 0.7302 - lr: 1.0000e-05\n",
      "Epoch 9/40\n",
      "75/75 [==============================] - 42s 562ms/step - accuracy: 0.9445 - loss: 0.1546 - val_accuracy: 0.7946 - val_loss: 0.8286 - lr: 1.0000e-05\n",
      "Epoch 10/40\n",
      "75/75 [==============================] - 42s 561ms/step - accuracy: 0.9613 - loss: 0.1173 - val_accuracy: 0.7900 - val_loss: 1.0824 - lr: 1.0000e-05\n",
      "Epoch 11/40\n",
      "75/75 [==============================] - 42s 563ms/step - accuracy: 0.9673 - loss: 0.0981 - val_accuracy: 0.8036 - val_loss: 0.8947 - lr: 1.0000e-06\n",
      "Epoch 12/40\n",
      "75/75 [==============================] - 42s 566ms/step - accuracy: 0.9759 - loss: 0.0713 - val_accuracy: 0.8028 - val_loss: 0.9636 - lr: 1.0000e-06\n",
      "Epoch 13/40\n",
      "75/75 [==============================] - 42s 566ms/step - accuracy: 0.9791 - loss: 0.0665 - val_accuracy: 0.8078 - val_loss: 0.9828 - lr: 1.0000e-06\n",
      "Epoch 14/40\n",
      "75/75 [==============================] - 55s 733ms/step - accuracy: 0.9819 - loss: 0.0609 - val_accuracy: 0.8086 - val_loss: 0.9903 - lr: 1.0000e-06\n",
      "Epoch 15/40\n",
      "75/75 [==============================] - 43s 568ms/step - accuracy: 0.9831 - loss: 0.0571 - val_accuracy: 0.8073 - val_loss: 1.0336 - lr: 1.0000e-06\n",
      "Epoch 16/40\n",
      "75/75 [==============================] - 42s 566ms/step - accuracy: 0.9833 - loss: 0.0532 - val_accuracy: 0.8065 - val_loss: 1.0211 - lr: 1.0000e-06\n",
      "Epoch 17/40\n",
      "75/75 [==============================] - 42s 565ms/step - accuracy: 0.9840 - loss: 0.0532 - val_accuracy: 0.8086 - val_loss: 1.0376 - lr: 1.0000e-06\n",
      "Epoch 18/40\n",
      "75/75 [==============================] - 44s 581ms/step - accuracy: 0.9855 - loss: 0.0462 - val_accuracy: 0.8049 - val_loss: 1.0415 - lr: 1.0000e-06\n",
      "Epoch 19/40\n",
      "75/75 [==============================] - 42s 564ms/step - accuracy: 0.9864 - loss: 0.0465 - val_accuracy: 0.8061 - val_loss: 1.0471 - lr: 1.0000e-06\n",
      "Epoch 20/40\n",
      "75/75 [==============================] - 42s 565ms/step - accuracy: 0.9875 - loss: 0.0406 - val_accuracy: 0.8073 - val_loss: 1.0576 - lr: 1.0000e-07\n",
      "Epoch 21/40\n",
      "75/75 [==============================] - 42s 561ms/step - accuracy: 0.9868 - loss: 0.0421 - val_accuracy: 0.8078 - val_loss: 1.0662 - lr: 1.0000e-07\n",
      "Epoch 22/40\n",
      "75/75 [==============================] - 42s 566ms/step - accuracy: 0.9886 - loss: 0.0395 - val_accuracy: 0.8078 - val_loss: 1.0702 - lr: 1.0000e-07\n",
      "Epoch 23/40\n",
      "75/75 [==============================] - 42s 561ms/step - accuracy: 0.9882 - loss: 0.0394 - val_accuracy: 0.8069 - val_loss: 1.0737 - lr: 1.0000e-07\n",
      "Epoch 24/40\n",
      "75/75 [==============================] - 42s 564ms/step - accuracy: 0.9883 - loss: 0.0398 - val_accuracy: 0.8069 - val_loss: 1.0786 - lr: 1.0000e-07\n"
     ]
    }
   ],
   "source": [
    "with strategy.scope():\n",
    "    history = model.fit(train_seq, shuffle=True, steps_per_epoch=n_step, epochs=40, verbose=1,\n",
    "                       validation_data=(valid_input,valid_label),\n",
    "                       callbacks=[\n",
    "            tf.keras.callbacks.EarlyStopping(monitor='val_accuracy', patience=10),#10回合val没有明显提升则自动停止\n",
    "            tf.keras.callbacks.ReduceLROnPlateau(monitor='val_accuracy', factor=0.1, patience=5),#观察学习率下降，factor*lr = new_lr\n",
    "            tf.keras.callbacks.ModelCheckpoint('model.h5', monitor='val_accuracy', save_best_only=True,save_weights_only=True)\n",
    "        ]#该回调函数将在每个epoch后保存模型到filepath,save_best_only：当设置为True时，将只保存在验证集上性能最好的模型\n",
    "                       )"
   ]
  },
  {
   "cell_type": "markdown",
   "metadata": {
    "papermill": {
     "duration": 0.638157,
     "end_time": "2021-01-10T07:17:06.300027",
     "exception": false,
     "start_time": "2021-01-10T07:17:05.661870",
     "status": "completed"
    },
    "tags": []
   },
   "source": [
    "### 预测"
   ]
  },
  {
   "cell_type": "code",
   "execution_count": 15,
   "metadata": {
    "execution": {
     "iopub.execute_input": "2021-01-10T07:17:07.597597Z",
     "iopub.status.busy": "2021-01-10T07:17:07.592383Z",
     "iopub.status.idle": "2021-01-10T07:18:12.028628Z",
     "shell.execute_reply": "2021-01-10T07:18:12.029162Z"
    },
    "papermill": {
     "duration": 65.091747,
     "end_time": "2021-01-10T07:18:12.029329",
     "exception": false,
     "start_time": "2021-01-10T07:17:06.937582",
     "status": "completed"
    },
    "tags": []
   },
   "outputs": [],
   "source": [
    "test_input = xlm_roberta_encode(test_df.hypothesis.values, test_df.premise.values)\n",
    "\n",
    "predition_p = model.predict(test_input)\n",
    "predictions = np.argmax(predition_p, axis=-1)"
   ]
  },
  {
   "cell_type": "code",
   "execution_count": 16,
   "metadata": {
    "execution": {
     "iopub.execute_input": "2021-01-10T07:18:13.312090Z",
     "iopub.status.busy": "2021-01-10T07:18:13.311340Z",
     "iopub.status.idle": "2021-01-10T07:18:13.488275Z",
     "shell.execute_reply": "2021-01-10T07:18:13.487534Z"
    },
    "papermill": {
     "duration": 0.826449,
     "end_time": "2021-01-10T07:18:13.488416",
     "exception": false,
     "start_time": "2021-01-10T07:18:12.661967",
     "status": "completed"
    },
    "tags": []
   },
   "outputs": [],
   "source": [
    "predictions = np.argmax(predition_p, axis=-1)\n",
    "\n",
    "submission = test_df.id.copy().to_frame()\n",
    "submission['prediction'] = predictions\n",
    "\n",
    "submission.to_csv(\"submission.csv\", index = False)"
   ]
  },
  {
   "cell_type": "code",
   "execution_count": 17,
   "metadata": {
    "execution": {
     "iopub.execute_input": "2021-01-10T07:18:14.861833Z",
     "iopub.status.busy": "2021-01-10T07:18:14.860800Z",
     "iopub.status.idle": "2021-01-10T07:18:14.873497Z",
     "shell.execute_reply": "2021-01-10T07:18:14.874133Z"
    },
    "papermill": {
     "duration": 0.74374,
     "end_time": "2021-01-10T07:18:14.874287",
     "exception": false,
     "start_time": "2021-01-10T07:18:14.130547",
     "status": "completed"
    },
    "tags": []
   },
   "outputs": [
    {
     "data": {
      "text/html": [
       "<div>\n",
       "<style scoped>\n",
       "    .dataframe tbody tr th:only-of-type {\n",
       "        vertical-align: middle;\n",
       "    }\n",
       "\n",
       "    .dataframe tbody tr th {\n",
       "        vertical-align: top;\n",
       "    }\n",
       "\n",
       "    .dataframe thead th {\n",
       "        text-align: right;\n",
       "    }\n",
       "</style>\n",
       "<table border=\"1\" class=\"dataframe\">\n",
       "  <thead>\n",
       "    <tr style=\"text-align: right;\">\n",
       "      <th></th>\n",
       "      <th>id</th>\n",
       "      <th>prediction</th>\n",
       "    </tr>\n",
       "  </thead>\n",
       "  <tbody>\n",
       "    <tr>\n",
       "      <th>0</th>\n",
       "      <td>c6d58c3f69</td>\n",
       "      <td>2</td>\n",
       "    </tr>\n",
       "    <tr>\n",
       "      <th>1</th>\n",
       "      <td>cefcc82292</td>\n",
       "      <td>2</td>\n",
       "    </tr>\n",
       "    <tr>\n",
       "      <th>2</th>\n",
       "      <td>e98005252c</td>\n",
       "      <td>1</td>\n",
       "    </tr>\n",
       "    <tr>\n",
       "      <th>3</th>\n",
       "      <td>58518c10ba</td>\n",
       "      <td>1</td>\n",
       "    </tr>\n",
       "    <tr>\n",
       "      <th>4</th>\n",
       "      <td>c32b0d16df</td>\n",
       "      <td>0</td>\n",
       "    </tr>\n",
       "  </tbody>\n",
       "</table>\n",
       "</div>"
      ],
      "text/plain": [
       "           id  prediction\n",
       "0  c6d58c3f69           2\n",
       "1  cefcc82292           2\n",
       "2  e98005252c           1\n",
       "3  58518c10ba           1\n",
       "4  c32b0d16df           0"
      ]
     },
     "execution_count": 17,
     "metadata": {},
     "output_type": "execute_result"
    }
   ],
   "source": [
    "submission.head()"
   ]
  }
 ],
 "metadata": {
  "kernelspec": {
   "display_name": "Python 3",
   "language": "python",
   "name": "python3"
  },
  "language_info": {
   "codemirror_mode": {
    "name": "ipython",
    "version": 3
   },
   "file_extension": ".py",
   "mimetype": "text/x-python",
   "name": "python",
   "nbconvert_exporter": "python",
   "pygments_lexer": "ipython3",
   "version": "3.8.5"
  },
  "papermill": {
   "duration": 1614.523815,
   "end_time": "2021-01-10T07:18:15.627681",
   "environment_variables": {},
   "exception": null,
   "input_path": "__notebook__.ipynb",
   "output_path": "__notebook__.ipynb",
   "parameters": {},
   "start_time": "2021-01-10T06:51:21.103866",
   "version": "2.1.0"
  },
  "widgets": {
   "application/vnd.jupyter.widget-state+json": {
    "state": {
     "07776cf7db7747f4bf1305c8d9627ecf": {
      "model_module": "@jupyter-widgets/controls",
      "model_module_version": "1.5.0",
      "model_name": "DescriptionStyleModel",
      "state": {
       "_model_module": "@jupyter-widgets/controls",
       "_model_module_version": "1.5.0",
       "_model_name": "DescriptionStyleModel",
       "_view_count": null,
       "_view_module": "@jupyter-widgets/base",
       "_view_module_version": "1.2.0",
       "_view_name": "StyleView",
       "description_width": ""
      }
     },
     "0a263efd5ea04837a7a0bc139720f784": {
      "model_module": "@jupyter-widgets/controls",
      "model_module_version": "1.5.0",
      "model_name": "HBoxModel",
      "state": {
       "_dom_classes": [],
       "_model_module": "@jupyter-widgets/controls",
       "_model_module_version": "1.5.0",
       "_model_name": "HBoxModel",
       "_view_count": null,
       "_view_module": "@jupyter-widgets/controls",
       "_view_module_version": "1.5.0",
       "_view_name": "HBoxView",
       "box_style": "",
       "children": [
        "IPY_MODEL_de634aa2fea9402ab4c98f8ff91aa37a",
        "IPY_MODEL_7e26c51de59a45f0a65760af3e3d5706"
       ],
       "layout": "IPY_MODEL_137a016a9d7545f08ecca2eca971735f"
      }
     },
     "0c44a63f5b0d40f4883d031a7d38ca9a": {
      "model_module": "@jupyter-widgets/base",
      "model_module_version": "1.2.0",
      "model_name": "LayoutModel",
      "state": {
       "_model_module": "@jupyter-widgets/base",
       "_model_module_version": "1.2.0",
       "_model_name": "LayoutModel",
       "_view_count": null,
       "_view_module": "@jupyter-widgets/base",
       "_view_module_version": "1.2.0",
       "_view_name": "LayoutView",
       "align_content": null,
       "align_items": null,
       "align_self": null,
       "border": null,
       "bottom": null,
       "display": null,
       "flex": null,
       "flex_flow": null,
       "grid_area": null,
       "grid_auto_columns": null,
       "grid_auto_flow": null,
       "grid_auto_rows": null,
       "grid_column": null,
       "grid_gap": null,
       "grid_row": null,
       "grid_template_areas": null,
       "grid_template_columns": null,
       "grid_template_rows": null,
       "height": null,
       "justify_content": null,
       "justify_items": null,
       "left": null,
       "margin": null,
       "max_height": null,
       "max_width": null,
       "min_height": null,
       "min_width": null,
       "object_fit": null,
       "object_position": null,
       "order": null,
       "overflow": null,
       "overflow_x": null,
       "overflow_y": null,
       "padding": null,
       "right": null,
       "top": null,
       "visibility": null,
       "width": null
      }
     },
     "137a016a9d7545f08ecca2eca971735f": {
      "model_module": "@jupyter-widgets/base",
      "model_module_version": "1.2.0",
      "model_name": "LayoutModel",
      "state": {
       "_model_module": "@jupyter-widgets/base",
       "_model_module_version": "1.2.0",
       "_model_name": "LayoutModel",
       "_view_count": null,
       "_view_module": "@jupyter-widgets/base",
       "_view_module_version": "1.2.0",
       "_view_name": "LayoutView",
       "align_content": null,
       "align_items": null,
       "align_self": null,
       "border": null,
       "bottom": null,
       "display": null,
       "flex": null,
       "flex_flow": null,
       "grid_area": null,
       "grid_auto_columns": null,
       "grid_auto_flow": null,
       "grid_auto_rows": null,
       "grid_column": null,
       "grid_gap": null,
       "grid_row": null,
       "grid_template_areas": null,
       "grid_template_columns": null,
       "grid_template_rows": null,
       "height": null,
       "justify_content": null,
       "justify_items": null,
       "left": null,
       "margin": null,
       "max_height": null,
       "max_width": null,
       "min_height": null,
       "min_width": null,
       "object_fit": null,
       "object_position": null,
       "order": null,
       "overflow": null,
       "overflow_x": null,
       "overflow_y": null,
       "padding": null,
       "right": null,
       "top": null,
       "visibility": null,
       "width": null
      }
     },
     "193518b2722f4449aa6e11ecae0a75a8": {
      "model_module": "@jupyter-widgets/controls",
      "model_module_version": "1.5.0",
      "model_name": "ProgressStyleModel",
      "state": {
       "_model_module": "@jupyter-widgets/controls",
       "_model_module_version": "1.5.0",
       "_model_name": "ProgressStyleModel",
       "_view_count": null,
       "_view_module": "@jupyter-widgets/base",
       "_view_module_version": "1.2.0",
       "_view_name": "StyleView",
       "bar_color": null,
       "description_width": "initial"
      }
     },
     "2515b83df1d74fa8a1685477995c8af1": {
      "model_module": "@jupyter-widgets/controls",
      "model_module_version": "1.5.0",
      "model_name": "FloatProgressModel",
      "state": {
       "_dom_classes": [],
       "_model_module": "@jupyter-widgets/controls",
       "_model_module_version": "1.5.0",
       "_model_name": "FloatProgressModel",
       "_view_count": null,
       "_view_module": "@jupyter-widgets/controls",
       "_view_module_version": "1.5.0",
       "_view_name": "ProgressView",
       "bar_style": "success",
       "description": "Downloading: 100%",
       "description_tooltip": null,
       "layout": "IPY_MODEL_0c44a63f5b0d40f4883d031a7d38ca9a",
       "max": 5069051,
       "min": 0,
       "orientation": "horizontal",
       "style": "IPY_MODEL_2b4f21fa8b184522bea256ca60acf33d",
       "value": 5069051
      }
     },
     "2b4f21fa8b184522bea256ca60acf33d": {
      "model_module": "@jupyter-widgets/controls",
      "model_module_version": "1.5.0",
      "model_name": "ProgressStyleModel",
      "state": {
       "_model_module": "@jupyter-widgets/controls",
       "_model_module_version": "1.5.0",
       "_model_name": "ProgressStyleModel",
       "_view_count": null,
       "_view_module": "@jupyter-widgets/base",
       "_view_module_version": "1.2.0",
       "_view_name": "StyleView",
       "bar_color": null,
       "description_width": "initial"
      }
     },
     "320efa10703946db8b94df4ac31940f8": {
      "model_module": "@jupyter-widgets/controls",
      "model_module_version": "1.5.0",
      "model_name": "ProgressStyleModel",
      "state": {
       "_model_module": "@jupyter-widgets/controls",
       "_model_module_version": "1.5.0",
       "_model_name": "ProgressStyleModel",
       "_view_count": null,
       "_view_module": "@jupyter-widgets/base",
       "_view_module_version": "1.2.0",
       "_view_name": "StyleView",
       "bar_color": null,
       "description_width": "initial"
      }
     },
     "3547e959ec0748fc8fc532147df3a711": {
      "model_module": "@jupyter-widgets/base",
      "model_module_version": "1.2.0",
      "model_name": "LayoutModel",
      "state": {
       "_model_module": "@jupyter-widgets/base",
       "_model_module_version": "1.2.0",
       "_model_name": "LayoutModel",
       "_view_count": null,
       "_view_module": "@jupyter-widgets/base",
       "_view_module_version": "1.2.0",
       "_view_name": "LayoutView",
       "align_content": null,
       "align_items": null,
       "align_self": null,
       "border": null,
       "bottom": null,
       "display": null,
       "flex": null,
       "flex_flow": null,
       "grid_area": null,
       "grid_auto_columns": null,
       "grid_auto_flow": null,
       "grid_auto_rows": null,
       "grid_column": null,
       "grid_gap": null,
       "grid_row": null,
       "grid_template_areas": null,
       "grid_template_columns": null,
       "grid_template_rows": null,
       "height": null,
       "justify_content": null,
       "justify_items": null,
       "left": null,
       "margin": null,
       "max_height": null,
       "max_width": null,
       "min_height": null,
       "min_width": null,
       "object_fit": null,
       "object_position": null,
       "order": null,
       "overflow": null,
       "overflow_x": null,
       "overflow_y": null,
       "padding": null,
       "right": null,
       "top": null,
       "visibility": null,
       "width": null
      }
     },
     "3c4f2511168d449e9c5453de266a4a1a": {
      "model_module": "@jupyter-widgets/base",
      "model_module_version": "1.2.0",
      "model_name": "LayoutModel",
      "state": {
       "_model_module": "@jupyter-widgets/base",
       "_model_module_version": "1.2.0",
       "_model_name": "LayoutModel",
       "_view_count": null,
       "_view_module": "@jupyter-widgets/base",
       "_view_module_version": "1.2.0",
       "_view_name": "LayoutView",
       "align_content": null,
       "align_items": null,
       "align_self": null,
       "border": null,
       "bottom": null,
       "display": null,
       "flex": null,
       "flex_flow": null,
       "grid_area": null,
       "grid_auto_columns": null,
       "grid_auto_flow": null,
       "grid_auto_rows": null,
       "grid_column": null,
       "grid_gap": null,
       "grid_row": null,
       "grid_template_areas": null,
       "grid_template_columns": null,
       "grid_template_rows": null,
       "height": null,
       "justify_content": null,
       "justify_items": null,
       "left": null,
       "margin": null,
       "max_height": null,
       "max_width": null,
       "min_height": null,
       "min_width": null,
       "object_fit": null,
       "object_position": null,
       "order": null,
       "overflow": null,
       "overflow_x": null,
       "overflow_y": null,
       "padding": null,
       "right": null,
       "top": null,
       "visibility": null,
       "width": null
      }
     },
     "443e41a284df419a88fb41f801995890": {
      "model_module": "@jupyter-widgets/base",
      "model_module_version": "1.2.0",
      "model_name": "LayoutModel",
      "state": {
       "_model_module": "@jupyter-widgets/base",
       "_model_module_version": "1.2.0",
       "_model_name": "LayoutModel",
       "_view_count": null,
       "_view_module": "@jupyter-widgets/base",
       "_view_module_version": "1.2.0",
       "_view_name": "LayoutView",
       "align_content": null,
       "align_items": null,
       "align_self": null,
       "border": null,
       "bottom": null,
       "display": null,
       "flex": null,
       "flex_flow": null,
       "grid_area": null,
       "grid_auto_columns": null,
       "grid_auto_flow": null,
       "grid_auto_rows": null,
       "grid_column": null,
       "grid_gap": null,
       "grid_row": null,
       "grid_template_areas": null,
       "grid_template_columns": null,
       "grid_template_rows": null,
       "height": null,
       "justify_content": null,
       "justify_items": null,
       "left": null,
       "margin": null,
       "max_height": null,
       "max_width": null,
       "min_height": null,
       "min_width": null,
       "object_fit": null,
       "object_position": null,
       "order": null,
       "overflow": null,
       "overflow_x": null,
       "overflow_y": null,
       "padding": null,
       "right": null,
       "top": null,
       "visibility": null,
       "width": null
      }
     },
     "6cce4f309ca14f90b87d472ffd2f2129": {
      "model_module": "@jupyter-widgets/controls",
      "model_module_version": "1.5.0",
      "model_name": "HBoxModel",
      "state": {
       "_dom_classes": [],
       "_model_module": "@jupyter-widgets/controls",
       "_model_module_version": "1.5.0",
       "_model_name": "HBoxModel",
       "_view_count": null,
       "_view_module": "@jupyter-widgets/controls",
       "_view_module_version": "1.5.0",
       "_view_name": "HBoxView",
       "box_style": "",
       "children": [
        "IPY_MODEL_c46a159bf3254672aabc24b2ad54f91e",
        "IPY_MODEL_9d555f498b944f6f910ecee6677397a5"
       ],
       "layout": "IPY_MODEL_3c4f2511168d449e9c5453de266a4a1a"
      }
     },
     "6d64f61dfa524859ade5ed1703e7f378": {
      "model_module": "@jupyter-widgets/controls",
      "model_module_version": "1.5.0",
      "model_name": "DescriptionStyleModel",
      "state": {
       "_model_module": "@jupyter-widgets/controls",
       "_model_module_version": "1.5.0",
       "_model_name": "DescriptionStyleModel",
       "_view_count": null,
       "_view_module": "@jupyter-widgets/base",
       "_view_module_version": "1.2.0",
       "_view_name": "StyleView",
       "description_width": ""
      }
     },
     "7e26c51de59a45f0a65760af3e3d5706": {
      "model_module": "@jupyter-widgets/controls",
      "model_module_version": "1.5.0",
      "model_name": "HTMLModel",
      "state": {
       "_dom_classes": [],
       "_model_module": "@jupyter-widgets/controls",
       "_model_module_version": "1.5.0",
       "_model_name": "HTMLModel",
       "_view_count": null,
       "_view_module": "@jupyter-widgets/controls",
       "_view_module_version": "1.5.0",
       "_view_name": "HTMLView",
       "description": "",
       "description_tooltip": null,
       "layout": "IPY_MODEL_443e41a284df419a88fb41f801995890",
       "placeholder": "​",
       "style": "IPY_MODEL_07776cf7db7747f4bf1305c8d9627ecf",
       "value": " 3.27G/3.27G [01:32&lt;00:00, 35.2MB/s]"
      }
     },
     "9a76ea772764411993d5149a76dc2728": {
      "model_module": "@jupyter-widgets/base",
      "model_module_version": "1.2.0",
      "model_name": "LayoutModel",
      "state": {
       "_model_module": "@jupyter-widgets/base",
       "_model_module_version": "1.2.0",
       "_model_name": "LayoutModel",
       "_view_count": null,
       "_view_module": "@jupyter-widgets/base",
       "_view_module_version": "1.2.0",
       "_view_name": "LayoutView",
       "align_content": null,
       "align_items": null,
       "align_self": null,
       "border": null,
       "bottom": null,
       "display": null,
       "flex": null,
       "flex_flow": null,
       "grid_area": null,
       "grid_auto_columns": null,
       "grid_auto_flow": null,
       "grid_auto_rows": null,
       "grid_column": null,
       "grid_gap": null,
       "grid_row": null,
       "grid_template_areas": null,
       "grid_template_columns": null,
       "grid_template_rows": null,
       "height": null,
       "justify_content": null,
       "justify_items": null,
       "left": null,
       "margin": null,
       "max_height": null,
       "max_width": null,
       "min_height": null,
       "min_width": null,
       "object_fit": null,
       "object_position": null,
       "order": null,
       "overflow": null,
       "overflow_x": null,
       "overflow_y": null,
       "padding": null,
       "right": null,
       "top": null,
       "visibility": null,
       "width": null
      }
     },
     "9d555f498b944f6f910ecee6677397a5": {
      "model_module": "@jupyter-widgets/controls",
      "model_module_version": "1.5.0",
      "model_name": "HTMLModel",
      "state": {
       "_dom_classes": [],
       "_model_module": "@jupyter-widgets/controls",
       "_model_module_version": "1.5.0",
       "_model_name": "HTMLModel",
       "_view_count": null,
       "_view_module": "@jupyter-widgets/controls",
       "_view_module_version": "1.5.0",
       "_view_name": "HTMLView",
       "description": "",
       "description_tooltip": null,
       "layout": "IPY_MODEL_af87a3b95a024e7ca9e37f69aaeb4d3a",
       "placeholder": "​",
       "style": "IPY_MODEL_c4e977a981dc450ba4671359999f20ee",
       "value": " 513/513 [00:00&lt;00:00, 1.67kB/s]"
      }
     },
     "a06d4edf5d134347b278b6a16e265043": {
      "model_module": "@jupyter-widgets/controls",
      "model_module_version": "1.5.0",
      "model_name": "HBoxModel",
      "state": {
       "_dom_classes": [],
       "_model_module": "@jupyter-widgets/controls",
       "_model_module_version": "1.5.0",
       "_model_name": "HBoxModel",
       "_view_count": null,
       "_view_module": "@jupyter-widgets/controls",
       "_view_module_version": "1.5.0",
       "_view_name": "HBoxView",
       "box_style": "",
       "children": [
        "IPY_MODEL_2515b83df1d74fa8a1685477995c8af1",
        "IPY_MODEL_c8bb2e608bd145d49515805359f7a27b"
       ],
       "layout": "IPY_MODEL_f3c29556f33d4e8f96df7c259a5e37e2"
      }
     },
     "ab4610ff3ccc4c1fb98a378c53c2c659": {
      "model_module": "@jupyter-widgets/base",
      "model_module_version": "1.2.0",
      "model_name": "LayoutModel",
      "state": {
       "_model_module": "@jupyter-widgets/base",
       "_model_module_version": "1.2.0",
       "_model_name": "LayoutModel",
       "_view_count": null,
       "_view_module": "@jupyter-widgets/base",
       "_view_module_version": "1.2.0",
       "_view_name": "LayoutView",
       "align_content": null,
       "align_items": null,
       "align_self": null,
       "border": null,
       "bottom": null,
       "display": null,
       "flex": null,
       "flex_flow": null,
       "grid_area": null,
       "grid_auto_columns": null,
       "grid_auto_flow": null,
       "grid_auto_rows": null,
       "grid_column": null,
       "grid_gap": null,
       "grid_row": null,
       "grid_template_areas": null,
       "grid_template_columns": null,
       "grid_template_rows": null,
       "height": null,
       "justify_content": null,
       "justify_items": null,
       "left": null,
       "margin": null,
       "max_height": null,
       "max_width": null,
       "min_height": null,
       "min_width": null,
       "object_fit": null,
       "object_position": null,
       "order": null,
       "overflow": null,
       "overflow_x": null,
       "overflow_y": null,
       "padding": null,
       "right": null,
       "top": null,
       "visibility": null,
       "width": null
      }
     },
     "af87a3b95a024e7ca9e37f69aaeb4d3a": {
      "model_module": "@jupyter-widgets/base",
      "model_module_version": "1.2.0",
      "model_name": "LayoutModel",
      "state": {
       "_model_module": "@jupyter-widgets/base",
       "_model_module_version": "1.2.0",
       "_model_name": "LayoutModel",
       "_view_count": null,
       "_view_module": "@jupyter-widgets/base",
       "_view_module_version": "1.2.0",
       "_view_name": "LayoutView",
       "align_content": null,
       "align_items": null,
       "align_self": null,
       "border": null,
       "bottom": null,
       "display": null,
       "flex": null,
       "flex_flow": null,
       "grid_area": null,
       "grid_auto_columns": null,
       "grid_auto_flow": null,
       "grid_auto_rows": null,
       "grid_column": null,
       "grid_gap": null,
       "grid_row": null,
       "grid_template_areas": null,
       "grid_template_columns": null,
       "grid_template_rows": null,
       "height": null,
       "justify_content": null,
       "justify_items": null,
       "left": null,
       "margin": null,
       "max_height": null,
       "max_width": null,
       "min_height": null,
       "min_width": null,
       "object_fit": null,
       "object_position": null,
       "order": null,
       "overflow": null,
       "overflow_x": null,
       "overflow_y": null,
       "padding": null,
       "right": null,
       "top": null,
       "visibility": null,
       "width": null
      }
     },
     "c46a159bf3254672aabc24b2ad54f91e": {
      "model_module": "@jupyter-widgets/controls",
      "model_module_version": "1.5.0",
      "model_name": "FloatProgressModel",
      "state": {
       "_dom_classes": [],
       "_model_module": "@jupyter-widgets/controls",
       "_model_module_version": "1.5.0",
       "_model_name": "FloatProgressModel",
       "_view_count": null,
       "_view_module": "@jupyter-widgets/controls",
       "_view_module_version": "1.5.0",
       "_view_name": "ProgressView",
       "bar_style": "success",
       "description": "Downloading: 100%",
       "description_tooltip": null,
       "layout": "IPY_MODEL_9a76ea772764411993d5149a76dc2728",
       "max": 513,
       "min": 0,
       "orientation": "horizontal",
       "style": "IPY_MODEL_320efa10703946db8b94df4ac31940f8",
       "value": 513
      }
     },
     "c4e977a981dc450ba4671359999f20ee": {
      "model_module": "@jupyter-widgets/controls",
      "model_module_version": "1.5.0",
      "model_name": "DescriptionStyleModel",
      "state": {
       "_model_module": "@jupyter-widgets/controls",
       "_model_module_version": "1.5.0",
       "_model_name": "DescriptionStyleModel",
       "_view_count": null,
       "_view_module": "@jupyter-widgets/base",
       "_view_module_version": "1.2.0",
       "_view_name": "StyleView",
       "description_width": ""
      }
     },
     "c8bb2e608bd145d49515805359f7a27b": {
      "model_module": "@jupyter-widgets/controls",
      "model_module_version": "1.5.0",
      "model_name": "HTMLModel",
      "state": {
       "_dom_classes": [],
       "_model_module": "@jupyter-widgets/controls",
       "_model_module_version": "1.5.0",
       "_model_name": "HTMLModel",
       "_view_count": null,
       "_view_module": "@jupyter-widgets/controls",
       "_view_module_version": "1.5.0",
       "_view_name": "HTMLView",
       "description": "",
       "description_tooltip": null,
       "layout": "IPY_MODEL_3547e959ec0748fc8fc532147df3a711",
       "placeholder": "​",
       "style": "IPY_MODEL_6d64f61dfa524859ade5ed1703e7f378",
       "value": " 5.07M/5.07M [01:37&lt;00:00, 51.9kB/s]"
      }
     },
     "de634aa2fea9402ab4c98f8ff91aa37a": {
      "model_module": "@jupyter-widgets/controls",
      "model_module_version": "1.5.0",
      "model_name": "FloatProgressModel",
      "state": {
       "_dom_classes": [],
       "_model_module": "@jupyter-widgets/controls",
       "_model_module_version": "1.5.0",
       "_model_name": "FloatProgressModel",
       "_view_count": null,
       "_view_module": "@jupyter-widgets/controls",
       "_view_module_version": "1.5.0",
       "_view_name": "ProgressView",
       "bar_style": "success",
       "description": "Downloading: 100%",
       "description_tooltip": null,
       "layout": "IPY_MODEL_ab4610ff3ccc4c1fb98a378c53c2c659",
       "max": 3271420488,
       "min": 0,
       "orientation": "horizontal",
       "style": "IPY_MODEL_193518b2722f4449aa6e11ecae0a75a8",
       "value": 3271420488
      }
     },
     "f3c29556f33d4e8f96df7c259a5e37e2": {
      "model_module": "@jupyter-widgets/base",
      "model_module_version": "1.2.0",
      "model_name": "LayoutModel",
      "state": {
       "_model_module": "@jupyter-widgets/base",
       "_model_module_version": "1.2.0",
       "_model_name": "LayoutModel",
       "_view_count": null,
       "_view_module": "@jupyter-widgets/base",
       "_view_module_version": "1.2.0",
       "_view_name": "LayoutView",
       "align_content": null,
       "align_items": null,
       "align_self": null,
       "border": null,
       "bottom": null,
       "display": null,
       "flex": null,
       "flex_flow": null,
       "grid_area": null,
       "grid_auto_columns": null,
       "grid_auto_flow": null,
       "grid_auto_rows": null,
       "grid_column": null,
       "grid_gap": null,
       "grid_row": null,
       "grid_template_areas": null,
       "grid_template_columns": null,
       "grid_template_rows": null,
       "height": null,
       "justify_content": null,
       "justify_items": null,
       "left": null,
       "margin": null,
       "max_height": null,
       "max_width": null,
       "min_height": null,
       "min_width": null,
       "object_fit": null,
       "object_position": null,
       "order": null,
       "overflow": null,
       "overflow_x": null,
       "overflow_y": null,
       "padding": null,
       "right": null,
       "top": null,
       "visibility": null,
       "width": null
      }
     }
    },
    "version_major": 2,
    "version_minor": 0
   }
  }
 },
 "nbformat": 4,
 "nbformat_minor": 4
}
